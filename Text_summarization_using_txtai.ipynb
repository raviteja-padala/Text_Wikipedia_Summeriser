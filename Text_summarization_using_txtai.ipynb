{
  "nbformat": 4,
  "nbformat_minor": 0,
  "metadata": {
    "colab": {
      "provenance": []
    },
    "kernelspec": {
      "name": "python3",
      "display_name": "Python 3"
    },
    "language_info": {
      "name": "python"
    }
  },
  "cells": [
    {
      "cell_type": "markdown",
      "source": [
        "# **Text summarization**"
      ],
      "metadata": {
        "id": "qcFAxyRFxfw8"
      }
    },
    {
      "cell_type": "markdown",
      "source": [
        "Text summarization is the process of creating a shorter version of a text document while retaining the most important information. The goal of text summarization is to provide readers with a concise overview of the original text, so they can quickly grasp the main points without having to read the entire document.\n",
        "\n",
        "There are two main approaches to text summarization:\n",
        "\n",
        "* **Extractive summarization:** This approach selects and extracts the most important sentences from the original text to create the summary.\n",
        "* **Abstractive summarization:** This approach creates a summary that is not necessarily a verbatim copy of the original text. Instead, it tries to capture the main ideas of the text in a new and concise way.\n",
        "\n",
        "Abstractive summarization is more challenging than extractive summarization. It requires the use of natural language processing techniques to understand the meaning of the text and to generate a summary that is both informative and fluent.\n",
        "\n",
        "\n",
        "Text summarization is a challenging task, but it is a valuable tool for processing and understanding large amounts of text. As natural language processing techniques continue to improve, text summarization is likely to become even more powerful and versatile."
      ],
      "metadata": {
        "id": "Ei8wZ011vg0G"
      }
    },
    {
      "cell_type": "markdown",
      "source": [
        "# **Objective:**\n",
        "The objective of text summarization is to create a shorter version of a text document while retaining the most important information. The goal is to provide readers with a concise overview of the original text, so they can quickly grasp the main points without having to read the entire document.\n",
        "\n",
        "# **Use case:**\n",
        "Text summarization can be used in a variety of use cases, including:\n",
        "\n",
        "* **News summarization:** This involves creating summaries of news articles to save readers time and to help them stay informed about current events.\n",
        "* **Document summarization:** This involves creating summaries of research papers, legal documents, and other types of documents to help readers quickly understand the main points.\n",
        "* **Social media summarization:** This involves creating summaries of social media posts to help users stay up-to-date on the latest trends and conversations.\n",
        "* **Search engine results summarization:** This involves creating summaries of search engine results pages to help users quickly find the information they are looking for.\n",
        "* **Content recommendation:** This involves creating summaries of content to help users discover new content that they might be interested in.\n",
        "\n",
        "# **Business need:**\n",
        "The business need for text summarization is to help businesses save time and money, and to improve communication and decision-making. For example, text summarization can be used to:\n",
        "\n",
        "* Quickly scan large amounts of text to find the information you need.\n",
        "* Generate summaries of documents for customers or clients.\n",
        "* Create training materials for employees.\n",
        "* Identify trends and patterns in data.\n",
        "* Make better decisions based on the information you have.\n"
      ],
      "metadata": {
        "id": "PcUxqrSwwNp9"
      }
    },
    {
      "cell_type": "markdown",
      "source": [
        "## **txtai**\n",
        "\n",
        "**txtai** is an open-source platform for semantic search and workflows powered by language models. It is built on Python 3.8+, Hugging Face Transformers, Sentence Transformers, and FastAPI. txtai can be used for a variety of tasks, such as:\n",
        "\n",
        "\n",
        "* **Workflows:** txtai can be used to automate tasks that involve text processing. This can be useful for tasks such as summarizing documents, extracting keywords, or translating text.\n",
        "\n",
        "https://neuml.github.io/txtai/"
      ],
      "metadata": {
        "id": "OB83u5UPyJbB"
      }
    },
    {
      "cell_type": "markdown",
      "source": [
        "# **Text summarization using txtai**\n",
        "\n",
        "txtai can summarize documents using a variety of techniques, including:\n",
        "\n",
        "* **Extractive summarization:** This is the most common technique for text summarization. It involves extracting the most important sentences from the document and combining them to form a summary. txtai can use a variety of extractive summarization algorithms, such as TextRank and LexRank.\n",
        "* **Abstractive summarization:** This is a more challenging technique for text summarization. It involves generating a summary that is not necessarily a verbatim copy of the original text. txtai can use a variety of abstractive summarization models, such as BART and T5.\n",
        "* **Hybrid summarization:** This is a combination of extractive and abstractive summarization. It involves first extracting the most important sentences from the document, and then using an abstractive summarization model to generate a more comprehensive summary. txtai can use a variety of hybrid summarization models, such as Text-to-Text Transfer Transformer (T5).\n",
        "\n",
        "The specific technique that txtai uses for summarizing documents depends on the following factors:\n",
        "\n",
        "* The length of the document: For shorter documents, extractive summarization is typically used. For longer documents, abstractive summarization may be used.\n",
        "* The quality of the language model: A better language model will be able to generate more accurate and informative summaries.\n",
        "* The desired length of the summary: The user can specify the desired length of the summary, and txtai will try to generate a summary that is as long as possible while still preserving the most important information.\n",
        "\n"
      ],
      "metadata": {
        "id": "LnvCiX1by4nP"
      }
    },
    {
      "cell_type": "code",
      "source": [
        "# Install the 'txtai' library with support for the 'pipeline' component\n",
        "# The '%%capture' magic command is used to suppress output during installation\n",
        "%%capture\n",
        "!pip install git+https://github.com/neuml/txtai#egg=txtai[pipeline]"
      ],
      "metadata": {
        "id": "kEo2nLjPn3LW"
      },
      "execution_count": null,
      "outputs": []
    },
    {
      "cell_type": "code",
      "source": [
        "# Import the 'Summary' class from the 'txtai.pipeline' module\n",
        "# The 'Summary' class is used for text summarization\n",
        "from txtai.pipeline import Summary\n",
        "\n",
        "# Create a summary model instance\n",
        "summary = Summary()"
      ],
      "metadata": {
        "id": "j0qttP2goo4c"
      },
      "execution_count": null,
      "outputs": []
    },
    {
      "cell_type": "code",
      "source": [
        "# Sample text for summarization\n",
        "text = \"\"\"\n",
        "Text summarization is the process of condensing a lengthy document or piece of text into a shorter, coherent version while preserving its key ideas, concepts, and most important information. The objective of text summarization is to provide readers with a concise overview of the original text, enabling them to quickly grasp the main points without having to read the entire document.\n",
        "\n",
        "There are two main approaches to text summarization:\n",
        "\n",
        "1. Extractive Summarization: In extractive summarization, the summary is created by selecting and extracting sentences or phrases directly from the original text. These selected sentences are typically the ones that contain the most important information or convey the main ideas of the document. Extractive summarization methods often use techniques like ranking sentences based on their relevance and importance, such as using algorithms like TextRank or TF-IDF (Term Frequency-Inverse Document Frequency).\n",
        "\n",
        "2. Abstractive Summarization: Abstractive summarization involves generating a summary that may not necessarily reuse the exact words or phrases from the original text. Instead, it aims to generate a summary in a more human-like way by paraphrasing and rephrasing the content. Abstractive summarization methods often use natural language processing (NLP) techniques, such as neural networks and sequence-to-sequence models, to understand the content and generate coherent and concise summaries.\n",
        "\n",
        "Text summarization has various applications, including:\n",
        "\n",
        "- News summarization: Creating concise news articles or headlines from longer news reports.\n",
        "- Document summarization: Summarizing research papers, legal documents, or business reports.\n",
        "- Social media summarization: Generating short descriptions or summaries of social media posts.\n",
        "- Search engine result snippets: Displaying concise summaries of web pages in search engine results.\n",
        "- Content recommendation: Providing brief descriptions of articles or videos to help users decide what to read or watch.\n",
        "\n",
        "Text summarization is a challenging task in natural language processing, and it plays a significant role in information retrieval and content consumption, particularly in situations where people need to quickly grasp the main points of lengthy texts.\n",
        "\"\"\""
      ],
      "metadata": {
        "id": "QIoxyPIEovGU"
      },
      "execution_count": null,
      "outputs": []
    },
    {
      "cell_type": "code",
      "source": [
        "# Call the 'summary' method of the model to generate a summary of the input text\n",
        "summary(text, maxlength=None)"
      ],
      "metadata": {
        "colab": {
          "base_uri": "https://localhost:8080/",
          "height": 53
        },
        "id": "Cdx5jkAb4lNp",
        "outputId": "25218b53-46dc-4a88-aa55-9072db9e6283"
      },
      "execution_count": null,
      "outputs": [
        {
          "output_type": "execute_result",
          "data": {
            "text/plain": [
              "'The objective of text summarization is to provide readers with a concise overview of the original text, enabling them to quickly grasp the main points without having to read the entire document. Text summarization has various applications, including: Summarizing news articles or headlines from longer news reports.'"
            ],
            "application/vnd.google.colaboratory.intrinsic+json": {
              "type": "string"
            }
          },
          "metadata": {},
          "execution_count": 15
        }
      ]
    },
    {
      "cell_type": "code",
      "source": [
        "# The 'maxlength' parameter specifies the maximum length of the summary (in this case, 20 words)\n",
        "summary(text, maxlength=20)"
      ],
      "metadata": {
        "colab": {
          "base_uri": "https://localhost:8080/",
          "height": 36
        },
        "id": "xHbmRetI4mlI",
        "outputId": "3be8ee91-8e6a-4c2c-e29e-6f89e5cd5c43"
      },
      "execution_count": null,
      "outputs": [
        {
          "output_type": "execute_result",
          "data": {
            "text/plain": [
              "'The objective of text summarization is to provide readers with a concise overview of the original'"
            ],
            "application/vnd.google.colaboratory.intrinsic+json": {
              "type": "string"
            }
          },
          "metadata": {},
          "execution_count": 18
        }
      ]
    },
    {
      "cell_type": "code",
      "source": [
        "# The 'maxlength' parameter specifies the maximum length of the summary (in this case, 20 words)\n",
        "summary(text, maxlength=50)"
      ],
      "metadata": {
        "colab": {
          "base_uri": "https://localhost:8080/",
          "height": 53
        },
        "id": "UgT0pihFpkjE",
        "outputId": "ea478a85-f6b8-44a4-9369-31b3369e5031"
      },
      "execution_count": null,
      "outputs": [
        {
          "output_type": "execute_result",
          "data": {
            "text/plain": [
              "'The objective of text summarization is to provide readers with a concise overview of the original text, enabling them to quickly grasp the main points without having to read the entire document. Text summarization has various applications, including: News summarization'"
            ],
            "application/vnd.google.colaboratory.intrinsic+json": {
              "type": "string"
            }
          },
          "metadata": {},
          "execution_count": 17
        }
      ]
    },
    {
      "cell_type": "markdown",
      "source": [
        "\n",
        "## **Conclusion:**\n",
        "\n",
        "Text summarization is a powerful tool that can be used to improve communication, decision-making, and efficiency. As natural language processing techniques continue to improve, text summarization is likely to become even more powerful and versatile.\n",
        "\n"
      ],
      "metadata": {
        "id": "Rlv2kw346HL_"
      }
    },
    {
      "cell_type": "markdown",
      "source": [
        "## Thank you.\n",
        "##  -Raviteja\n",
        "https://www.linkedin.com/in/raviteja-padala/"
      ],
      "metadata": {
        "id": "SahM8m3P7EG_"
      }
    }
  ]
}